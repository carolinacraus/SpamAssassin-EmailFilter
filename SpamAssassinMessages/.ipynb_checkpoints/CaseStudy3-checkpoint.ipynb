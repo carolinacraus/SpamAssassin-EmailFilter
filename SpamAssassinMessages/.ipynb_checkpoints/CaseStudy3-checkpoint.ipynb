{
 "cells": [
  {
   "cell_type": "code",
   "execution_count": 3,
   "id": "11a3892f-0550-4e49-b06f-25a9c227eefe",
   "metadata": {},
   "outputs": [],
   "source": [
    "from pathlib import Path \n",
    "import email \n",
    "import pandas as pd\n",
    "from chardet.universaldetector import UniversalDetector"
   ]
  }
 ],
 "metadata": {
  "kernelspec": {
   "display_name": "Python [conda env:quant-env]",
   "language": "python",
   "name": "conda-env-quant-env-py"
  },
  "language_info": {
   "codemirror_mode": {
    "name": "ipython",
    "version": 3
   },
   "file_extension": ".py",
   "mimetype": "text/x-python",
   "name": "python",
   "nbconvert_exporter": "python",
   "pygments_lexer": "ipython3",
   "version": "3.11.7"
  }
 },
 "nbformat": 4,
 "nbformat_minor": 5
}
